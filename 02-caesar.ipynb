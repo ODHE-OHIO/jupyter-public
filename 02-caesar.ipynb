{
 "cells": [
  {
   "cell_type": "markdown",
   "metadata": {},
   "source": [
    "# The Caesar Cipher\n",
    "A cipher is a technique that can encrypt or decrypt data (which is commonly referred to as \"plaintext\" or \"cleartext\"). During encryption, the input plaintext is converted into what is known as the \"ciphertext\". It is impossible to read or extract any meaning from the ciphertext unless you happen to know how the cipher works, and also a special input to the cipher known as the \"key\". The same cipher, with the same key, can be used to decrypt the ciphertext back into plaintext to make it readable again.\n",
    "\n",
    "In this tutorial we will examine a very simple cipher known as the Caesar cipher. We have the notion of an \"alphabet\", which is the set of symbols that can be used to write down the plain and cipher texts. For example, the alphabet could consist of only lowercase letters in the English alphabet (26 symbols), upper and lowercase (52 symbols), or upper, lower and numbers (62 symbols). During encryption, each symbol in the plaintext will be replaced by another symbol in the same alphabet. The mapping between symbols thus forms the \"key\". While this key can be represented in binary, we shall not do so at this time to avoid confusion. Let's generate the key using Python, assume that the alphabet consists of lowercase letters only:"
   ]
  },
  {
   "cell_type": "code",
   "execution_count": null,
   "metadata": {
    "pycharm": {
     "name": "#%%\n"
    }
   },
   "outputs": [],
   "source": [
    "import random\n",
    "alphabet = 'abcdefghijklmnopqrstuvwxyz'\n",
    "key = ''.join(random.sample(alphabet, len(alphabet)))\n",
    "print(key)\n",
    "key_dict = {}\n",
    "\n",
    "for i in range(len(alphabet)):\n",
    "    key_dict[alphabet[i]] = key[i]\n",
    "\n",
    "for key in key_dict.keys():\n",
    "    print(key, \"will be replaced by\", key_dict[key], \"during encryption\")"
   ]
  },
  {
   "cell_type": "markdown",
   "metadata": {},
   "source": [
    "## Encryption\n",
    "\n",
    "We need to replace each letter in the plaintext according to above mapping."
   ]
  },
  {
   "cell_type": "code",
   "execution_count": null,
   "metadata": {
    "pycharm": {
     "name": "#%%\n"
    }
   },
   "outputs": [],
   "source": [
    "plaintext = 'we choose to go to the moon in this decade and do the other things, not because they are easy, but because they are hard'\n",
    "ciphertext = ''\n",
    "for char in plaintext:\n",
    "    if not char.isalpha():\n",
    "        ciphertext += char\n",
    "    else:\n",
    "        ctext = key_dict[char]\n",
    "        ciphertext += ctext\n",
    "        print(char, \"was replaced by\", ctext)\n",
    "\n",
    "print(\"ciphertext is: \", ciphertext)"
   ]
  },
  {
   "cell_type": "markdown",
   "metadata": {},
   "source": [
    "Note that patterns involving repetition of letters are still visible in the ciphertext. Since `hello` contains two `l`s in sequence, the ciphertext also contains two `h`s in sequence, *at exactly the same position in the word*. This important drawback makes this Caesar cipher easily breakable, using a technique called frequency analysis.\n",
    "\n",
    "## Decryption\n",
    "\n",
    "Decryption is equally simple - we simply do a reverse lookup in the above mapping. To make things easy, let us build a reverse dictionary:\n"
   ]
  },
  {
   "cell_type": "code",
   "execution_count": null,
   "metadata": {
    "pycharm": {
     "name": "#%%\n"
    }
   },
   "outputs": [],
   "source": [
    "reverse_dict = {}\n",
    "\n",
    "for key in key_dict.keys():\n",
    "    val = key_dict[key]\n",
    "    reverse_dict[val] = key\n",
    "    print(val, \"will be replaced by\", reverse_dict[val], \"during decryption\")"
   ]
  },
  {
   "cell_type": "markdown",
   "metadata": {},
   "source": [
    "We are now ready to decrypt the ciphertext"
   ]
  },
  {
   "cell_type": "code",
   "execution_count": null,
   "metadata": {
    "pycharm": {
     "name": "#%%\n"
    }
   },
   "outputs": [],
   "source": [
    "decrypted = ''\n",
    "for char in ciphertext:\n",
    "    if not char.isalpha():\n",
    "        decrypted += char\n",
    "    else:\n",
    "        ptxt = reverse_dict[char]\n",
    "        decrypted += ptxt\n",
    "        print(char, \"was replaced by\", ptxt)\n",
    "\n",
    "print(\"decrypted string is: \", decrypted)"
   ]
  },
  {
   "cell_type": "markdown",
   "metadata": {
    "pycharm": {
     "name": "#%% md\n"
    }
   },
   "source": [
    "This concludes the tutorial. Feel free to modify and extend the above code. For example, you could extend the above code to include numbers 0-9 in the alphabet. Try it out!"
   ]
  },
  {
   "cell_type": "markdown",
   "metadata": {},
   "source": [
    "# Advanced Exercises:\n",
    "\n",
    "On the Google Classroom there are 4 ciphers and 4 ciphertexts in a random order.  Use the following code snippit to attempt using a cipher to decrypt the ciphertexts into plaintext.  If the output is unintelligible, try a different cipher."
   ]
  },
  {
   "cell_type": "code",
   "execution_count": null,
   "metadata": {},
   "outputs": [],
   "source": [
    "cipher = input(\"Enter your cipher here:\")\n",
    "ciphertext = input(\"Enter your ciphertext here:\")\n",
    "\n",
    "for i in range(26):\n",
    "   reverse_dict[ord('a') + i] = cipher[i]\n",
    "\n",
    "decrypted = ''\n",
    "for char in ciphertext:\n",
    "    if not char.isalpha():\n",
    "        decrypted += char\n",
    "    else:\n",
    "        ptxt = reverse_dict[char]\n",
    "        decrypted += ptxt\n",
    "\n",
    "print(\"The decoded message is: \" + decrypted)\n"
   ]
  }
 ],
 "metadata": {
  "kernelspec": {
   "display_name": "Python 3",
   "language": "python",
   "name": "python3"
  },
  "language_info": {
   "codemirror_mode": {
    "name": "ipython",
    "version": 3
   },
   "file_extension": ".py",
   "mimetype": "text/x-python",
   "name": "python",
   "nbconvert_exporter": "python",
   "pygments_lexer": "ipython3",
   "version": "3.9.5"
  }
 },
 "nbformat": 4,
 "nbformat_minor": 1
}
